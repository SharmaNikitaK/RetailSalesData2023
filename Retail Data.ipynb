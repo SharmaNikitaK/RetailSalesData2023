{
  "metadata": {
    "kernelspec": {
      "name": "python",
      "display_name": "Python (Pyodide)",
      "language": "python"
    },
    "language_info": {
      "codemirror_mode": {
        "name": "python",
        "version": 3
      },
      "file_extension": ".py",
      "mimetype": "text/x-python",
      "name": "python",
      "nbconvert_exporter": "python",
      "pygments_lexer": "ipython3",
      "version": "3.8"
    }
  },
  "nbformat_minor": 5,
  "nbformat": 4,
  "cells": [
    {
      "id": "7a9153d3-ba77-4291-b148-425f6455e995",
      "cell_type": "code",
      "source": "# Retail Dataset: https://www.kaggle.com/datasets/sahilprajapati143/retail-analysis-large-dataset\n# Holidays Dataset: https://www.kaggle.com/datasets/dhavalrupapara/world-countries-holidays-dataset-2023",
      "metadata": {
        "trusted": true
      },
      "outputs": [],
      "execution_count": 1
    },
    {
      "id": "a35471c5-af1c-4476-9edb-4161a671fa8c",
      "cell_type": "code",
      "source": "import pandas as pd\nimport numpy as np",
      "metadata": {
        "trusted": true
      },
      "outputs": [],
      "execution_count": 2
    },
    {
      "id": "4f9d3dd6-603e-4d79-8d22-ccdb0f50717e",
      "cell_type": "code",
      "source": "data = pd.read_csv('new_retail_data.csv')\ndata['Date']=pd.to_datetime(data['Date'], errors='coerce')\ndata['Age']=data['Age'].fillna('')\ndata=data.dropna()\ndata.head()",
      "metadata": {
        "trusted": true
      },
      "outputs": [
        {
          "execution_count": 3,
          "output_type": "execute_result",
          "data": {
            "text/plain": "   Transaction_ID  Customer_ID                 Name                Email  \\\n0       8691788.0      37249.0  Michelle Harrington    Ebony39@gmail.com   \n1       2174773.0      69749.0          Kelsey Hill     Mark36@gmail.com   \n2       6679610.0      30192.0         Scott Jensen    Shane85@gmail.com   \n3       7232460.0      62101.0        Joseph Miller     Mary34@gmail.com   \n4       4983775.0      27901.0        Debra Coleman  Charles30@gmail.com   \n\n          Phone                      Address        City            State  \\\n0  1.414787e+09            3959 Amanda Burgs    Dortmund           Berlin   \n1  6.852900e+09           82072 Dawn Centers  Nottingham          England   \n2  8.362160e+09            4133 Young Canyon     Geelong  New South Wales   \n3  2.776752e+09  8148 Thomas Creek Suite 100    Edmonton          Ontario   \n4  9.098268e+09    5813 Lori Ports Suite 269     Bristol          England   \n\n   Zipcode    Country  ... Total_Amount Product_Category  Product_Brand  \\\n0  77985.0    Germany  ...   324.086270         Clothing           Nike   \n1  99071.0         UK  ...   806.707815      Electronics        Samsung   \n2  75929.0  Australia  ...  1063.432799            Books  Penguin Books   \n3  88420.0     Canada  ...  2466.854021       Home Decor     Home Depot   \n4  48704.0         UK  ...   248.553049          Grocery         Nestle   \n\n  Product_Type   Feedback  Shipping_Method Payment_Method Order_Status  \\\n0       Shorts  Excellent         Same-Day     Debit Card      Shipped   \n1       Tablet  Excellent         Standard    Credit Card   Processing   \n2   Children's    Average         Same-Day    Credit Card   Processing   \n3        Tools  Excellent         Standard         PayPal   Processing   \n4    Chocolate        Bad         Standard           Cash      Shipped   \n\n   Ratings           products  \n0      5.0     Cycling shorts  \n1      4.0         Lenovo Tab  \n2      2.0   Sports equipment  \n3      4.0      Utility knife  \n4      1.0  Chocolate cookies  \n\n[5 rows x 30 columns]",
            "text/html": "<div>\n<style scoped>\n    .dataframe tbody tr th:only-of-type {\n        vertical-align: middle;\n    }\n\n    .dataframe tbody tr th {\n        vertical-align: top;\n    }\n\n    .dataframe thead th {\n        text-align: right;\n    }\n</style>\n<table border=\"1\" class=\"dataframe\">\n  <thead>\n    <tr style=\"text-align: right;\">\n      <th></th>\n      <th>Transaction_ID</th>\n      <th>Customer_ID</th>\n      <th>Name</th>\n      <th>Email</th>\n      <th>Phone</th>\n      <th>Address</th>\n      <th>City</th>\n      <th>State</th>\n      <th>Zipcode</th>\n      <th>Country</th>\n      <th>...</th>\n      <th>Total_Amount</th>\n      <th>Product_Category</th>\n      <th>Product_Brand</th>\n      <th>Product_Type</th>\n      <th>Feedback</th>\n      <th>Shipping_Method</th>\n      <th>Payment_Method</th>\n      <th>Order_Status</th>\n      <th>Ratings</th>\n      <th>products</th>\n    </tr>\n  </thead>\n  <tbody>\n    <tr>\n      <th>0</th>\n      <td>8691788.0</td>\n      <td>37249.0</td>\n      <td>Michelle Harrington</td>\n      <td>Ebony39@gmail.com</td>\n      <td>1.414787e+09</td>\n      <td>3959 Amanda Burgs</td>\n      <td>Dortmund</td>\n      <td>Berlin</td>\n      <td>77985.0</td>\n      <td>Germany</td>\n      <td>...</td>\n      <td>324.086270</td>\n      <td>Clothing</td>\n      <td>Nike</td>\n      <td>Shorts</td>\n      <td>Excellent</td>\n      <td>Same-Day</td>\n      <td>Debit Card</td>\n      <td>Shipped</td>\n      <td>5.0</td>\n      <td>Cycling shorts</td>\n    </tr>\n    <tr>\n      <th>1</th>\n      <td>2174773.0</td>\n      <td>69749.0</td>\n      <td>Kelsey Hill</td>\n      <td>Mark36@gmail.com</td>\n      <td>6.852900e+09</td>\n      <td>82072 Dawn Centers</td>\n      <td>Nottingham</td>\n      <td>England</td>\n      <td>99071.0</td>\n      <td>UK</td>\n      <td>...</td>\n      <td>806.707815</td>\n      <td>Electronics</td>\n      <td>Samsung</td>\n      <td>Tablet</td>\n      <td>Excellent</td>\n      <td>Standard</td>\n      <td>Credit Card</td>\n      <td>Processing</td>\n      <td>4.0</td>\n      <td>Lenovo Tab</td>\n    </tr>\n    <tr>\n      <th>2</th>\n      <td>6679610.0</td>\n      <td>30192.0</td>\n      <td>Scott Jensen</td>\n      <td>Shane85@gmail.com</td>\n      <td>8.362160e+09</td>\n      <td>4133 Young Canyon</td>\n      <td>Geelong</td>\n      <td>New South Wales</td>\n      <td>75929.0</td>\n      <td>Australia</td>\n      <td>...</td>\n      <td>1063.432799</td>\n      <td>Books</td>\n      <td>Penguin Books</td>\n      <td>Children's</td>\n      <td>Average</td>\n      <td>Same-Day</td>\n      <td>Credit Card</td>\n      <td>Processing</td>\n      <td>2.0</td>\n      <td>Sports equipment</td>\n    </tr>\n    <tr>\n      <th>3</th>\n      <td>7232460.0</td>\n      <td>62101.0</td>\n      <td>Joseph Miller</td>\n      <td>Mary34@gmail.com</td>\n      <td>2.776752e+09</td>\n      <td>8148 Thomas Creek Suite 100</td>\n      <td>Edmonton</td>\n      <td>Ontario</td>\n      <td>88420.0</td>\n      <td>Canada</td>\n      <td>...</td>\n      <td>2466.854021</td>\n      <td>Home Decor</td>\n      <td>Home Depot</td>\n      <td>Tools</td>\n      <td>Excellent</td>\n      <td>Standard</td>\n      <td>PayPal</td>\n      <td>Processing</td>\n      <td>4.0</td>\n      <td>Utility knife</td>\n    </tr>\n    <tr>\n      <th>4</th>\n      <td>4983775.0</td>\n      <td>27901.0</td>\n      <td>Debra Coleman</td>\n      <td>Charles30@gmail.com</td>\n      <td>9.098268e+09</td>\n      <td>5813 Lori Ports Suite 269</td>\n      <td>Bristol</td>\n      <td>England</td>\n      <td>48704.0</td>\n      <td>UK</td>\n      <td>...</td>\n      <td>248.553049</td>\n      <td>Grocery</td>\n      <td>Nestle</td>\n      <td>Chocolate</td>\n      <td>Bad</td>\n      <td>Standard</td>\n      <td>Cash</td>\n      <td>Shipped</td>\n      <td>1.0</td>\n      <td>Chocolate cookies</td>\n    </tr>\n  </tbody>\n</table>\n<p>5 rows × 30 columns</p>\n</div>"
          },
          "metadata": {}
        }
      ],
      "execution_count": 3
    },
    {
      "id": "fcfdf835-580e-468b-8e83-50ac38152009",
      "cell_type": "code",
      "source": "# Create age ranges\n\nage_range = {'':''}\ndef add_range(min_age, max_age, age_group=\"\"):\n    age_group = f\"{min_age}-{max_age}\" if age_group == \"\" else age_group\n    for k in range(min_age, max_age):\n        age_range[k] = age_group\n\nadd_range(0,17)\nadd_range(18,24)\nadd_range(25,34)\nadd_range(35,44)\nadd_range(45,54)\nadd_range(55,64)\nadd_range(65,120,'65+')\n\ndata['Age_Range'] = data['Age'].map(age_range)\ndata['Age_Range'].value_counts()\n",
      "metadata": {
        "trusted": true
      },
      "outputs": [
        {
          "execution_count": 4,
          "output_type": "execute_result",
          "data": {
            "text/plain": "Age_Range\n18-24    100479\n45-54     51853\n25-34     44134\n55-64     25647\n35-44     22839\n65+       15192\n            172\nName: count, dtype: int64"
          },
          "metadata": {}
        }
      ],
      "execution_count": 4
    },
    {
      "id": "f82ece99-6074-420a-99da-98663900ef83",
      "cell_type": "code",
      "source": "def size(dataframe):\n    r, c = dataframe.shape\n    print(f\"Rows: {r}, Columns: {c}\")",
      "metadata": {
        "trusted": true
      },
      "outputs": [],
      "execution_count": 5
    },
    {
      "id": "0fdda03f-53c1-42ff-bb0c-aaa0a74bce8b",
      "cell_type": "code",
      "source": "def min_max(col):\n    print(\"Min: \", col.min(), \" Max: \", col.max())",
      "metadata": {
        "trusted": true
      },
      "outputs": [],
      "execution_count": 6
    },
    {
      "id": "f784e54a-a748-4109-838b-0d3f8c4559f3",
      "cell_type": "code",
      "source": "holidays=pd.concat(\n    map(pd.read_csv,\n        ['Australia_AU.csv',\n         'Canada_CA.csv',\n         'Germany_DE.csv',\n         'United Kingdom_GB.csv',\n         'United States_US.csv']\n       ),\n    ignore_index=True\n)\n\nholidays = holidays[(holidays['Type'] == \"['Local holiday']\") | (holidays['Type'] == \"['National holiday']\")]\n\nholidays = holidays.astype(str)\nholidays['Date'] = pd.to_datetime(holidays['Date'], errors='coerce')\nholidays = holidays[holidays['Date'].notnull()]\nholidays['Holiday_Name'] = holidays['Name']\nholidays.loc[(holidays['Date']=='2023-06-19') & (holidays['Country Name'] == 'United States'), 'Holiday_Name'] = 'Juneteenth' # Dropping duplicate Juneteenth holidays\n\nholidays = holidays.drop(columns=['Country Code', 'Name', 'Type'])\nholidays = holidays.drop_duplicates(subset=['Holiday_Name', 'Country Name'], keep='last')\n\nprint(holidays.head())\nsize(holidays)\nmin_max(holidays['Date'])",
      "metadata": {
        "trusted": true
      },
      "outputs": [
        {
          "name": "stdout",
          "output_type": "stream",
          "text": "        Date Country Name                    Holiday_Name\n0 2023-01-01    Australia                  New Year's Day\n1 2023-01-02    Australia      Day off for New Year's Day\n6 2023-01-22    Australia                  Lunar New Year\n7 2023-01-23    Australia  Lunar New Year Holiday (Day 2)\n8 2023-01-26    Australia                   Australia Day\nRows: 156, Columns: 3\nMin:  2023-01-01 00:00:00  Max:  2023-12-31 00:00:00\n"
        }
      ],
      "execution_count": 7
    },
    {
      "id": "f3937b3b-9b2d-4869-bec0-30453e51b6ea",
      "cell_type": "code",
      "source": "print('Holidays country names: ',holidays['Country Name'].unique())\nprint('Retail data country names: ', data['Country'].unique())\n\ncountry_map = {\n    'Australia': 'Australia',\n    'Canada': 'Canada',\n    'Germany': 'Germany',\n    'UK': 'United Kingdom',\n    'USA': 'United States'\n}\n\ndata['Country'] = data['Country'].map(country_map)",
      "metadata": {
        "trusted": true,
        "tags": [],
        "editable": true,
        "slideshow": {
          "slide_type": ""
        }
      },
      "outputs": [
        {
          "name": "stdout",
          "output_type": "stream",
          "text": "Holidays country names:  ['Australia' 'Canada' 'Germany' 'United Kingdom' 'United States']\nRetail data country names:  ['Germany' 'UK' 'Australia' 'Canada' 'USA']\n"
        }
      ],
      "execution_count": 8
    },
    {
      "id": "b6f0b7e6-6973-435d-9262-8b2d09b802d3",
      "cell_type": "code",
      "source": "data_2023 = data.loc[(data['Date'] >= '2023-01-01') & (data['Date'] <= '2023-12-31')]\ndata_2023.fillna('')\n\ndata_2023 = data_2023.merge(holidays[['Date', 'Holiday_Name', 'Country Name']], left_on=['Date', 'Country'], right_on=['Date', 'Country Name'], how='left')\ndata_2023=data_2023.drop(columns=['Country Name'])\ndata_2023.update(data_2023.select_dtypes(include=[np.number]).fillna(0))",
      "metadata": {
        "trusted": true
      },
      "outputs": [],
      "execution_count": 9
    },
    {
      "id": "db67d150-a504-4e7e-ba86-8b293d99f51e",
      "cell_type": "code",
      "source": "min_max(data_2023['Date'])\nsize(data_2023)",
      "metadata": {
        "trusted": true,
        "tags": [],
        "editable": true,
        "slideshow": {
          "slide_type": ""
        }
      },
      "outputs": [
        {
          "name": "stdout",
          "output_type": "stream",
          "text": "Min:  2023-03-01 00:00:00  Max:  2023-12-31 00:00:00\nRows: 251473, Columns: 32\n"
        }
      ],
      "execution_count": 10
    },
    {
      "id": "1107a7b5-6a9f-457c-9ff0-3c38a67dde3e",
      "cell_type": "code",
      "source": "print('Saving retail data...')\ncsv_name='int_retail_data_2023.csv'\ndata_2023.to_csv(csv_name, index=False)\nprint(f\"Saved to {csv_name}\")",
      "metadata": {
        "trusted": true,
        "tags": [],
        "editable": true,
        "slideshow": {
          "slide_type": ""
        }
      },
      "outputs": [
        {
          "name": "stdout",
          "output_type": "stream",
          "text": "Saving retail data...\nSaved to int_retail_data_2023.csv\n"
        }
      ],
      "execution_count": 11
    },
    {
      "id": "de85bafe-580c-4101-a582-013ae63b30de",
      "cell_type": "code",
      "source": "print('Saving holiday data...')\ncsv_name='holidays.csv'\nholidays.to_csv(csv_name, index=False)\nprint(f\"Saved to {csv_name}\")",
      "metadata": {
        "trusted": true
      },
      "outputs": [
        {
          "name": "stdout",
          "output_type": "stream",
          "text": "Saving holiday data...\nSaved to holidays.csv\n"
        }
      ],
      "execution_count": 12
    }
  ]
}
